{
 "cells": [
  {
   "cell_type": "code",
   "execution_count": 2,
   "id": "44456c69-5c0c-42c2-986a-74126b6b3c03",
   "metadata": {
    "tags": []
   },
   "outputs": [
    {
     "name": "stdout",
     "output_type": "stream",
     "text": [
      "Номер не валиден.\n",
      "Номер не валиден.\n"
     ]
    }
   ],
   "source": [
    "import re\n",
    "\n",
    "def validate_car_id(car_id):\n",
    "    # Регулярное выражение для проверки формата номера\n",
    "    pattern = r'^[АЕИОРСТУХ]{1}\\d{3}[АЕИОРСТУХ]{2}\\d{2,3}$'\n",
    "    \n",
    "    # Проверяем, соответствует ли номер заданному шаблону\n",
    "    match = re.match(pattern, car_id)\n",
    "    \n",
    "    if match:\n",
    "        # Если номер валиден, выделяем номер и регион\n",
    "        number = car_id[:-2]  # Все символы кроме последних двух\n",
    "        region = car_id[-2:]   # Последние два или три символа (регион)\n",
    "        \n",
    "        return f\"Номер {number} валиден. Регион: {region}.\"\n",
    "    else:\n",
    "        return \"Номер не валиден.\"\n",
    "\n",
    "# Примеры использования функции\n",
    "car_id1 = 'А222BС96'\n",
    "print(validate_car_id(car_id1))  # Номер А222BС валиден. Регион: 96.\n",
    "\n",
    "car_id2 = 'АБ22ВВ193'\n",
    "print(validate_car_id(car_id2))  # Номер не валиден."
   ]
  },
  {
   "cell_type": "code",
   "execution_count": null,
   "id": "a7a7da8a-b17e-4b55-a9fd-ee5bc592b6a3",
   "metadata": {},
   "outputs": [],
   "source": []
  }
 ],
 "metadata": {
  "kernelspec": {
   "display_name": "Python 3",
   "language": "python",
   "name": "python3"
  },
  "language_info": {
   "codemirror_mode": {
    "name": "ipython",
    "version": 3
   },
   "file_extension": ".py",
   "mimetype": "text/x-python",
   "name": "python",
   "nbconvert_exporter": "python",
   "pygments_lexer": "ipython3",
   "version": "3.7.2"
  }
 },
 "nbformat": 4,
 "nbformat_minor": 5
}
