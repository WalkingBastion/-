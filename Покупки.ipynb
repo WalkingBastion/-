{
 "cells": [
  {
   "cell_type": "code",
   "execution_count": null,
   "id": "a5afdfb5-f632-470e-ade9-f958f1d8d4d2",
   "metadata": {},
   "outputs": [],
   "source": [
    "import csv\n",
    "\n",
    "# Функция для обработки файла\n",
    "def process_visit_log(visit_log_file, funnel_file):\n",
    "    # Открываем файл для чтения\n",
    "    with open(visit_log_file, 'r', newline='', encoding='utf-8') as infile, \\\n",
    "         open(funnel_file, 'w', newline='', encoding='utf-8') as outfile:\n",
    "        \n",
    "        # Создаем CSV читатель и писатель\n",
    "        reader = csv.reader(infile)\n",
    "        writer = csv.writer(outfile)\n",
    "\n",
    "        # Записываем заголовок в funnel.csv\n",
    "        writer.writerow(['user_id', 'source', 'category'])\n",
    "\n",
    "        # Пропускаем заголовок в visit_log.csv\n",
    "        next(reader)\n",
    "\n",
    "        # Обрабатываем строки из visit_log.csv\n",
    "        for row in reader:\n",
    "            user_id = row[0]\n",
    "            source = row[1]\n",
    "            category = row[2] if len(row) > 2 else None  # Проверяем наличие категории\n",
    "\n",
    "            # Если категория покупки существует, записываем в funnel.csv\n",
    "            if category:\n",
    "                writer.writerow([user_id, source, category])\n",
    "\n",
    "# Указываем имена файлов\n",
    "visit_log_file = 'visit_log.csv'\n",
    "funnel_file = 'funnel.csv'\n",
    "\n",
    "# Запускаем обработку\n",
    "process_visit_log(visit_log_file, funnel_file)"
   ]
  }
 ],
 "metadata": {
  "kernelspec": {
   "display_name": "Python 3",
   "language": "python",
   "name": "python3"
  },
  "language_info": {
   "codemirror_mode": {
    "name": "ipython",
    "version": 3
   },
   "file_extension": ".py",
   "mimetype": "text/x-python",
   "name": "python",
   "nbconvert_exporter": "python",
   "pygments_lexer": "ipython3",
   "version": "3.7.2"
  }
 },
 "nbformat": 4,
 "nbformat_minor": 5
}
