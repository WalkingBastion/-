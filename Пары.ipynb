{
 "cells": [
  {
   "cell_type": "code",
   "execution_count": 1,
   "id": "2722481c-4218-4c9c-95ef-73d51e162138",
   "metadata": {
    "tags": []
   },
   "outputs": [
    {
     "name": "stdout",
     "output_type": "stream",
     "text": [
      "Пример 1:\n",
      "Идеальные пары:\n",
      "Alex и Emma\n",
      "Arthur и Kate\n",
      "John и Kira\n",
      "Peter и Liza\n",
      "Richard и Trisha\n",
      "\n",
      "\n",
      "Пример 2:\n",
      "Внимание, кто-то может остаться без пары.\n"
     ]
    }
   ],
   "source": [
    "def match_pairs(boys, girls):\n",
    "    if len(boys) != len(girls):\n",
    "        print(\"Внимание, кто-то может остаться без пары.\")\n",
    "        return\n",
    "    \n",
    "    boys_sorted = sorted(boys)\n",
    "    girls_sorted = sorted(girls)\n",
    "\n",
    "    print(\"Идеальные пары:\")\n",
    "    for boy, girl in zip(boys_sorted, girls_sorted):\n",
    "        print(f\"{boy} и {girl}\")\n",
    "\n",
    "boys1 = ['Peter', 'Alex', 'John', 'Arthur', 'Richard']\n",
    "girls1 = ['Kate', 'Liza', 'Kira', 'Emma', 'Trisha']\n",
    "print(f\"Пример 1:\")\n",
    "match_pairs(boys1, girls1)\n",
    "\n",
    "boys2 = ['Peter', 'Alex', 'John', 'Arthur', 'Richard', 'Michael']\n",
    "girls2 = ['Kate', 'Liza', 'Kira', 'Emma', 'Trisha']\n",
    "print(f\"\\n\\nПример 2:\")\n",
    "match_pairs(boys2, girls2)"
   ]
  },
  {
   "cell_type": "code",
   "execution_count": null,
   "id": "139da848-86e3-4c99-be2e-6410a7f9a338",
   "metadata": {},
   "outputs": [],
   "source": []
  }
 ],
 "metadata": {
  "kernelspec": {
   "display_name": "Python 3",
   "language": "python",
   "name": "python3"
  },
  "language_info": {
   "codemirror_mode": {
    "name": "ipython",
    "version": 3
   },
   "file_extension": ".py",
   "mimetype": "text/x-python",
   "name": "python",
   "nbconvert_exporter": "python",
   "pygments_lexer": "ipython3",
   "version": "3.7.2"
  }
 },
 "nbformat": 4,
 "nbformat_minor": 5
}
