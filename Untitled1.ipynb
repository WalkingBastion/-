{
 "cells": [
  {
   "cell_type": "code",
   "execution_count": null,
   "id": "96a0d975-71ca-4a58-b477-be956a8b8c13",
   "metadata": {
    "tags": []
   },
   "outputs": [
    {
     "name": "stdin",
     "output_type": "stream",
     "text": [
      "Введите номер проездного : 122221\n"
     ]
    },
    {
     "name": "stdout",
     "output_type": "stream",
     "text": [
      "Счастливый билет\n"
     ]
    }
   ],
   "source": [
    "def is_lucky_ticket(ticket_number):\n",
    "    ticket_str = str(ticket_number)\n",
    "    if len(ticket_str) != 6 or not ticket_str.isdigit():\n",
    "        return 'Число не содержит 6 цифр.'\n",
    "    first_half_sum = sum(int(digit) for digit in ticket_str[:3])\n",
    "    second_half_sum = sum(int(digit) for digit in ticket_str[3:])\n",
    "    if first_half_sum == second_half_sum:\n",
    "        return 'Счастливый билет'\n",
    "    else:\n",
    "        return 'Несчастливый билет'\n",
    "\n",
    "def main():\n",
    "    while True:\n",
    "        ticket_input = input('Введите номер проездного :')\n",
    "        result = is_lucky_ticket(ticket_input)\n",
    "        print(result)\n",
    "\n",
    "if __name__ == \"__main__\":\n",
    "    main()"
   ]
  },
  {
   "cell_type": "code",
   "execution_count": null,
   "id": "bcb9ad43-4cc4-44bc-a820-587a7ecd6c9f",
   "metadata": {},
   "outputs": [],
   "source": []
  }
 ],
 "metadata": {
  "kernelspec": {
   "display_name": "Python 3",
   "language": "python",
   "name": "python3"
  },
  "language_info": {
   "codemirror_mode": {
    "name": "ipython",
    "version": 3
   },
   "file_extension": ".py",
   "mimetype": "text/x-python",
   "name": "python",
   "nbconvert_exporter": "python",
   "pygments_lexer": "ipython3",
   "version": "3.7.2"
  }
 },
 "nbformat": 4,
 "nbformat_minor": 5
}
