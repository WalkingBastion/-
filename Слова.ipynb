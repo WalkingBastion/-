{
 "cells": [
  {
   "cell_type": "code",
   "execution_count": 1,
   "id": "4734d082-f35d-4160-85fd-75708e404fc4",
   "metadata": {
    "tags": []
   },
   "outputs": [
    {
     "name": "stdin",
     "output_type": "stream",
     "text": [
      "Введите слово, состоящее только из латинских букв:  Hello\n"
     ]
    },
    {
     "name": "stdout",
     "output_type": "stream",
     "text": [
      "Результат: l\n"
     ]
    }
   ],
   "source": [
    "def check_word():\n",
    "    word = input(\"Введите слово, состоящее только из латинских букв: \")\n",
    "\n",
    "    if word.isalpha() and all('a' <= c <= 'z' or 'A' <= c <= 'Z' for c in word):\n",
    "        length = len(word)\n",
    "        \n",
    "        if length % 2 == 0:\n",
    "            middle1 = word[length // 2 - 1]\n",
    "            middle2 = word[length // 2]\n",
    "            print(f\"Результат: {middle1 + middle2}\")\n",
    "        \n",
    "        else:\n",
    "            middle = word[length // 2]\n",
    "            print(f\"Результат: {middle}\")\n",
    "    else:\n",
    "        print(\"Ошибка: введённое слово должно содержать только латинские буквы.\")\n",
    "\n",
    "check_word()"
   ]
  },
  {
   "cell_type": "code",
   "execution_count": null,
   "id": "aed42357-b2c9-4323-bee0-4a174438180b",
   "metadata": {},
   "outputs": [],
   "source": []
  }
 ],
 "metadata": {
  "kernelspec": {
   "display_name": "Python 3",
   "language": "python",
   "name": "python3"
  },
  "language_info": {
   "codemirror_mode": {
    "name": "ipython",
    "version": 3
   },
   "file_extension": ".py",
   "mimetype": "text/x-python",
   "name": "python",
   "nbconvert_exporter": "python",
   "pygments_lexer": "ipython3",
   "version": "3.7.2"
  }
 },
 "nbformat": 4,
 "nbformat_minor": 5
}
