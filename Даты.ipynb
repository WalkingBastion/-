{
 "cells": [
  {
   "cell_type": "code",
   "execution_count": null,
   "id": "1bbaaba9-f25f-47fd-a42a-2de737952810",
   "metadata": {
    "tags": []
   },
   "outputs": [
    {
     "name": "stdin",
     "output_type": "stream",
     "text": [
      "Введите дату (или 'exit' для выхода):  02.10.2002\n"
     ]
    },
    {
     "name": "stdout",
     "output_type": "stream",
     "text": [
      "Формат даты не распознан. Попробуйте еще раз.\n"
     ]
    },
    {
     "name": "stdin",
     "output_type": "stream",
     "text": [
      "Введите дату (или 'exit' для выхода):  2.10.2002\n"
     ]
    },
    {
     "name": "stdout",
     "output_type": "stream",
     "text": [
      "Формат даты не распознан. Попробуйте еще раз.\n"
     ]
    },
    {
     "name": "stdin",
     "output_type": "stream",
     "text": [
      "Введите дату (или 'exit' для выхода):  2002\n"
     ]
    },
    {
     "name": "stdout",
     "output_type": "stream",
     "text": [
      "Формат даты не распознан. Попробуйте еще раз.\n"
     ]
    },
    {
     "name": "stdin",
     "output_type": "stream",
     "text": [
      "Введите дату (или 'exit' для выхода):  Октябрь\n"
     ]
    },
    {
     "name": "stdout",
     "output_type": "stream",
     "text": [
      "Формат даты не распознан. Попробуйте еще раз.\n"
     ]
    },
    {
     "name": "stdin",
     "output_type": "stream",
     "text": [
      "Введите дату (или 'exit' для выхода):  7 октября\n"
     ]
    },
    {
     "name": "stdout",
     "output_type": "stream",
     "text": [
      "Формат даты не распознан. Попробуйте еще раз.\n"
     ]
    },
    {
     "name": "stdin",
     "output_type": "stream",
     "text": [
      "Введите дату (или 'exit' для выхода):  The Moscow Times\n"
     ]
    },
    {
     "name": "stdout",
     "output_type": "stream",
     "text": [
      "Формат даты не распознан. Попробуйте еще раз.\n"
     ]
    },
    {
     "name": "stdin",
     "output_type": "stream",
     "text": [
      "Введите дату (или 'exit' для выхода):  Wednesday, October 2, 2002\n"
     ]
    },
    {
     "name": "stdout",
     "output_type": "stream",
     "text": [
      "The Moscow Times: 2002-10-02 00:00:00\n"
     ]
    }
   ],
   "source": [
    "from datetime import datetime\n",
    "\n",
    "date_formats = {\n",
    "    \"The Moscow Times\": \"%A, %B %d, %Y\",\n",
    "    \"The Guardian\": \"%A, %d.%m.%y\",\n",
    "    \"Daily News\": \"%A, %d %B %Y\"\n",
    "}\n",
    "\n",
    "while True:\n",
    "    input_date = input(\"Введите дату (или 'exit' для выхода): \")\n",
    "    \n",
    "    if input_date.lower() == 'exit':\n",
    "        break\n",
    "    \n",
    "    parsed_date = None\n",
    "    \n",
    "    for newspaper, date_format in date_formats.items():\n",
    "        try:\n",
    "            parsed_date = datetime.strptime(input_date, date_format)\n",
    "            print(f\"{newspaper}: {parsed_date}\")\n",
    "            break \n",
    "        except ValueError:\n",
    "            continue \n",
    "\n",
    "    if parsed_date is None:\n",
    "        print(\"Формат даты не распознан. Попробуйте еще раз.\")"
   ]
  },
  {
   "cell_type": "code",
   "execution_count": null,
   "id": "278941a3-a8ca-4e8c-9b33-9b4cfdb7e551",
   "metadata": {},
   "outputs": [],
   "source": []
  }
 ],
 "metadata": {
  "kernelspec": {
   "display_name": "Python 3",
   "language": "python",
   "name": "python3"
  },
  "language_info": {
   "codemirror_mode": {
    "name": "ipython",
    "version": 3
   },
   "file_extension": ".py",
   "mimetype": "text/x-python",
   "name": "python",
   "nbconvert_exporter": "python",
   "pygments_lexer": "ipython3",
   "version": "3.7.2"
  }
 },
 "nbformat": 4,
 "nbformat_minor": 5
}
