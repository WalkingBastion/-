{
 "cells": [
  {
   "cell_type": "code",
   "execution_count": 2,
   "id": "4a25d636-34c6-420e-a5c3-4887051e1a9e",
   "metadata": {
    "tags": []
   },
   "outputs": [
    {
     "ename": "FileNotFoundError",
     "evalue": "[Errno 2] No such file or directory: 'path_to_your_file.csv'",
     "output_type": "error",
     "traceback": [
      "\u001b[1;31m---------------------------------------------------------------------------\u001b[0m",
      "\u001b[1;31mFileNotFoundError\u001b[0m                         Traceback (most recent call last)",
      "\u001b[1;32m<ipython-input-2-5f987a6305c9>\u001b[0m in \u001b[0;36m<module>\u001b[1;34m\u001b[0m\n\u001b[0;32m      8\u001b[0m \u001b[1;33m\u001b[0m\u001b[0m\n\u001b[0;32m      9\u001b[0m \u001b[1;31m# Чтение данных из CSV-файла\u001b[0m\u001b[1;33m\u001b[0m\u001b[1;33m\u001b[0m\u001b[1;33m\u001b[0m\u001b[0m\n\u001b[1;32m---> 10\u001b[1;33m \u001b[1;32mwith\u001b[0m \u001b[0mopen\u001b[0m\u001b[1;33m(\u001b[0m\u001b[0minput_file_path\u001b[0m\u001b[1;33m,\u001b[0m \u001b[0mmode\u001b[0m\u001b[1;33m=\u001b[0m\u001b[1;34m'r'\u001b[0m\u001b[1;33m,\u001b[0m \u001b[0mencoding\u001b[0m\u001b[1;33m=\u001b[0m\u001b[1;34m'utf-8'\u001b[0m\u001b[1;33m)\u001b[0m \u001b[1;32mas\u001b[0m \u001b[0mcsvfile\u001b[0m\u001b[1;33m:\u001b[0m\u001b[1;33m\u001b[0m\u001b[1;33m\u001b[0m\u001b[0m\n\u001b[0m\u001b[0;32m     11\u001b[0m     \u001b[0mreader\u001b[0m \u001b[1;33m=\u001b[0m \u001b[0mcsv\u001b[0m\u001b[1;33m.\u001b[0m\u001b[0mDictReader\u001b[0m\u001b[1;33m(\u001b[0m\u001b[0mcsvfile\u001b[0m\u001b[1;33m)\u001b[0m\u001b[1;33m\u001b[0m\u001b[1;33m\u001b[0m\u001b[0m\n\u001b[0;32m     12\u001b[0m \u001b[1;33m\u001b[0m\u001b[0m\n",
      "\u001b[1;31mFileNotFoundError\u001b[0m: [Errno 2] No such file or directory: 'path_to_your_file.csv'"
     ]
    }
   ],
   "source": [
    "import csv\n",
    "\n",
    "# Шаг 1: Загрузка CSV-файла\n",
    "input_file_path = 'path_to_your_file.csv'  # Укажите путь к вашему файлу\n",
    "output_file_path = 'output_descriptions.txt'  # Укажите путь для сохранения файла\n",
    "\n",
    "descriptions = []\n",
    "\n",
    "# Чтение данных из CSV-файла\n",
    "with open(input_file_path, mode='r', encoding='utf-8') as csvfile:\n",
    "    reader = csv.DictReader(csvfile)\n",
    "    \n",
    "    # Шаг 2: Парсинг и формирование текстового описания\n",
    "    for row in reader:\n",
    "        fio = row['ФИО'].strip()\n",
    "        gender = row['Пол'].strip()\n",
    "        age = int(row['Возраст'].strip())\n",
    "        amount = row['Сумма чека'].strip()\n",
    "        browser = row['Браузер'].strip()\n",
    "        region = row['Регион покупки'].strip()\n",
    "\n",
    "        description = (\n",
    "            f\"Пользователь {fio} {gender} пола, \"\n",
    "            f\"{age} лет совершила покупку на {amount} у.е. \"\n",
    "            f\"с мобильного браузера {browser}. \"\n",
    "            f\"Регион, из которого совершалась покупка: {region}.\"\n",
    "        )\n",
    "        descriptions.append(description)\n",
    "\n",
    "# Шаг 3: Запись в TXT-файл\n",
    "with open(output_file_path, mode='w', encoding='utf-8') as file:\n",
    "    for desc in descriptions:\n",
    "        file.write(desc + '\\n')\n",
    "\n",
    "print(f\"Описание покупателей успешно записано в файл {output_file_path}.\")"
   ]
  },
  {
   "cell_type": "code",
   "execution_count": null,
   "id": "24d46d91-38c2-4c52-bad5-0c9454f820c1",
   "metadata": {},
   "outputs": [],
   "source": []
  }
 ],
 "metadata": {
  "kernelspec": {
   "display_name": "Python 3",
   "language": "python",
   "name": "python3"
  },
  "language_info": {
   "codemirror_mode": {
    "name": "ipython",
    "version": 3
   },
   "file_extension": ".py",
   "mimetype": "text/x-python",
   "name": "python",
   "nbconvert_exporter": "python",
   "pygments_lexer": "ipython3",
   "version": "3.7.2"
  }
 },
 "nbformat": 4,
 "nbformat_minor": 5
}
