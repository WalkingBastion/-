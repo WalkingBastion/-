{
 "cells": [
  {
   "cell_type": "code",
   "execution_count": null,
   "id": "9509571b-5edf-4d58-bdac-82bae118d62e",
   "metadata": {
    "tags": []
   },
   "outputs": [],
   "source": [
    "def main():\n",
    "    items = input(\"Введите список товаров через запятую: \").split(',')\n",
    "    items = [item.strip() for item in items]\n",
    "\n",
    "    prices = {}\n",
    "    while True:\n",
    "        store_name = input(\"Введите название магазина (или 'стоп' для завершения ввода): \")\n",
    "        if store_name.lower() == 'стоп':\n",
    "            break\n",
    "        \n",
    "        store_prices = []\n",
    "        for item in items:\n",
    "            price = float(input(f\"Введите цену товара '{item}' в магазине '{store_name}': \"))\n",
    "            store_prices.append(price)\n",
    "        \n",
    "        prices[store_name] = store_prices\n",
    "\n",
    "    total_costs = {store: sum(prices[store]) for store in prices}\n",
    "\n",
    "    print(\"\\nОбщая стоимость покупок в каждом магазине:\")\n",
    "    for store, total in total_costs.items():\n",
    "        print(f\"{store}: {total:.2f} руб.\")\n",
    "\n",
    "    min_cost = min(total_costs.values())\n",
    "    best_store = [store for store, total in total_costs.items() if total == min_cost]\n",
    "\n",
    "    print(f\"\\nВы можете сэкономить больше всего, купив товары в магазине: {', '.join(best_store)} (стоимость: {min_cost:.2f} руб.)\")\n",
    "\n",
    "if __name__ == \"__main__\":\n",
    "    main()"
   ]
  },
  {
   "cell_type": "code",
   "execution_count": null,
   "id": "c382f434-ec51-463e-82b7-e07881bec355",
   "metadata": {},
   "outputs": [],
   "source": []
  }
 ],
 "metadata": {
  "kernelspec": {
   "display_name": "Python 3",
   "language": "python",
   "name": "python3"
  },
  "language_info": {
   "codemirror_mode": {
    "name": "ipython",
    "version": 3
   },
   "file_extension": ".py",
   "mimetype": "text/x-python",
   "name": "python",
   "nbconvert_exporter": "python",
   "pygments_lexer": "ipython3",
   "version": "3.7.2"
  }
 },
 "nbformat": 4,
 "nbformat_minor": 5
}
