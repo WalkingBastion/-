{
 "cells": [
  {
   "cell_type": "code",
   "execution_count": 1,
   "id": "6e6ada69-256d-4a67-8c3f-b07bcf3a09e0",
   "metadata": {
    "tags": []
   },
   "outputs": [
    {
     "name": "stdin",
     "output_type": "stream",
     "text": [
      "Введите количество дисков:  3\n"
     ]
    },
    {
     "name": "stdout",
     "output_type": "stream",
     "text": [
      "Move disk 1 from peg A to peg C\n",
      "Move disk 2 from peg A to peg B\n",
      "Move disk 1 from peg C to peg B\n",
      "Move disk 3 from peg A to peg C\n",
      "Move disk 1 from peg B to peg A\n",
      "Move disk 2 from peg B to peg C\n",
      "Move disk 1 from peg A to peg C\n"
     ]
    }
   ],
   "source": [
    "def hanoi(n, from_peg, to_peg, aux_peg, moves):\n",
    "    if n == 1:\n",
    "        moves.append(f\"Move disk 1 from peg {from_peg} to peg {to_peg}\")\n",
    "        return\n",
    "    hanoi(n - 1, from_peg, aux_peg, to_peg, moves)\n",
    "    moves.append(f\"Move disk {n} from peg {from_peg} to peg {to_peg}\")\n",
    "    hanoi(n - 1, aux_peg, to_peg, from_peg, moves)\n",
    "\n",
    "def main():\n",
    "    # Ввод начальных условий\n",
    "    num_disks = int(input(\"Введите количество дисков: \"))\n",
    "    \n",
    "    moves = []\n",
    "    hanoi(num_disks, 'A', 'C', 'B', moves)\n",
    "    \n",
    "    # Вывод в консоль\n",
    "    for move in moves:\n",
    "        print(move)\n",
    "    \n",
    "    # Запись в файл\n",
    "    with open(\"hanoi_moves.txt\", \"w\") as file:\n",
    "        for move in moves:\n",
    "            file.write(move + \"\\n\")\n",
    "\n",
    "if __name__ == \"__main__\":\n",
    "    main()"
   ]
  },
  {
   "cell_type": "code",
   "execution_count": null,
   "id": "28b71f23-0cd4-47fd-97de-a64b567aacde",
   "metadata": {},
   "outputs": [],
   "source": []
  }
 ],
 "metadata": {
  "kernelspec": {
   "display_name": "Python 3",
   "language": "python",
   "name": "python3"
  },
  "language_info": {
   "codemirror_mode": {
    "name": "ipython",
    "version": 3
   },
   "file_extension": ".py",
   "mimetype": "text/x-python",
   "name": "python",
   "nbconvert_exporter": "python",
   "pygments_lexer": "ipython3",
   "version": "3.7.2"
  }
 },
 "nbformat": 4,
 "nbformat_minor": 5
}
