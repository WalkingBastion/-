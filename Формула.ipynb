{
 "cells": [
  {
   "cell_type": "code",
   "execution_count": 1,
   "id": "b6ca0bf1-504b-468f-84ff-f6ac0881681f",
   "metadata": {
    "tags": []
   },
   "outputs": [
    {
     "name": "stdout",
     "output_type": "stream",
     "text": [
      "10,000 итераций: Формула 1: 0.2864 сек, Формула 3: 0.0000 сек, Всего: 0.2864 сек\n",
      "100,000 итераций: Формула 1: 4.3341 сек, Формула 3: 0.0065 сек, Всего: 4.3407 сек\n"
     ]
    }
   ],
   "source": [
    "import time\n",
    "import concurrent.futures\n",
    "\n",
    "# Определяем формулы\n",
    "def formula_1(x):\n",
    "    return x**2 - x**2 + x**4 - x**5 + x + x\n",
    "\n",
    "def formula_2(x):\n",
    "    return x + x\n",
    "\n",
    "def compute_iterations(num_iterations):\n",
    "    results_1 = []\n",
    "    results_2 = []\n",
    "\n",
    "    # Измеряем время выполнения формулы 1 и 2 параллельно\n",
    "    start_time = time.time()\n",
    "    \n",
    "    with concurrent.futures.ThreadPoolExecutor() as executor:\n",
    "        futures_1 = [executor.submit(formula_1, x) for x in range(num_iterations)]\n",
    "        futures_2 = [executor.submit(formula_2, x) for x in range(num_iterations)]\n",
    "\n",
    "        for future in concurrent.futures.as_completed(futures_1):\n",
    "            results_1.append(future.result())\n",
    "        for future in concurrent.futures.as_completed(futures_2):\n",
    "            results_2.append(future.result())\n",
    "\n",
    "    duration_formula_1 = time.time() - start_time\n",
    "\n",
    "    # Измеряем время выполнения формулы 3\n",
    "    start_time = time.time()\n",
    "    result_formula_3 = sum(results_1) + sum(results_2)\n",
    "    duration_formula_3 = time.time() - start_time\n",
    "\n",
    "    total_duration = duration_formula_1 + duration_formula_3\n",
    "\n",
    "    return duration_formula_1, duration_formula_3, total_duration\n",
    "\n",
    "# Выполняем вычисления для 10 000 и 100 000 итераций\n",
    "results_10k = compute_iterations(10000)\n",
    "results_100k = compute_iterations(100000)\n",
    "\n",
    "# Выводим результаты\n",
    "print(f\"10,000 итераций: Формула 1: {results_10k[0]:.4f} сек, Формула 3: {results_10k[1]:.4f} сек, Всего: {results_10k[2]:.4f} сек\")\n",
    "print(f\"100,000 итераций: Формула 1: {results_100k[0]:.4f} сек, Формула 3: {results_100k[1]:.4f} сек, Всего: {results_100k[2]:.4f} сек\")"
   ]
  },
  {
   "cell_type": "code",
   "execution_count": null,
   "id": "37e737e9-194f-4f0f-b243-9c7e85db8234",
   "metadata": {},
   "outputs": [],
   "source": []
  }
 ],
 "metadata": {
  "kernelspec": {
   "display_name": "Python 3",
   "language": "python",
   "name": "python3"
  },
  "language_info": {
   "codemirror_mode": {
    "name": "ipython",
    "version": 3
   },
   "file_extension": ".py",
   "mimetype": "text/x-python",
   "name": "python",
   "nbconvert_exporter": "python",
   "pygments_lexer": "ipython3",
   "version": "3.7.2"
  }
 },
 "nbformat": 4,
 "nbformat_minor": 5
}
